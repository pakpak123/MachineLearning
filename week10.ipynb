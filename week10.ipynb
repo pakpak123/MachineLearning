{
 "cells": [
  {
   "cell_type": "code",
   "execution_count": 1,
   "metadata": {},
   "outputs": [],
   "source": [
    "import numpy as np\n",
    "import pandas as pd\n",
    "import matplotlib.pyplot as plt\n",
    "from sklearn import preprocessing\n",
    "from sklearn import model_selection\n",
    "from sklearn.preprocessing import StandardScaler\n",
    "from sklearn.model_selection import train_test_split, cross_val_score, StratifiedKFold\n",
    "from sklearn.svm import SVC\n",
    "from sklearn import metrics\n",
    "from sklearn.model_selection import GridSearchCV, RandomizedSearchCV \n",
    "from sklearn.metrics import accuracy_score, classification_report, confusion_matrix\n",
    "import glob\n",
    "from scipy import stats\n",
    "import datetime as dt\n",
    "import warnings\n",
    "warnings.filterwarnings('ignore')\n",
    "import tensorflow as tf\n",
    "from tensorflow import keras\n",
    "from keras import layers,Sequential\n",
    "from keras.layers import LSTM,Dropout,Dense"
   ]
  },
  {
   "cell_type": "code",
   "execution_count": 2,
   "metadata": {},
   "outputs": [],
   "source": [
    "ACC = pd.read_csv('46343_acceleration.txt', sep = ' ',names=['timedelta', 'accX', 'accY', 'accZ'])\n",
    "HeartR = pd.read_csv('46343_heartrate.txt', sep = ',',names=['timedelta', 'heartrate'])\n",
    "SleepL = pd.read_csv('46343_labeled_sleep.txt', sep = ' ',names=['timedelta', 'sleep'])"
   ]
  },
  {
   "cell_type": "code",
   "execution_count": 5,
   "metadata": {},
   "outputs": [],
   "source": [
    "ACC_max_date = ACC['timedelta'].max()\n",
    "ACC_min_date = ACC['timedelta'].min()\n",
    "HeartR_max_date = HeartR['timedelta'].max()\n",
    "HeartR_min_date = HeartR['timedelta'].min()\n",
    "SleepL_max_date = SleepL['timedelta'].max()\n",
    "SleepL_min_date = SleepL['timedelta'].min()"
   ]
  },
  {
   "cell_type": "code",
   "execution_count": 6,
   "metadata": {},
   "outputs": [
    {
     "name": "stdout",
     "output_type": "stream",
     "text": [
      "ACC start:  -124489.16105 ACC end:  17643.046417\n",
      "HeartR start:  -556410.36066 HeartR end:  16980.47229\n",
      "SleepL start:  0 SleepL end:  16980\n"
     ]
    }
   ],
   "source": [
    "print('ACC start: ',ACC_min_date,'ACC end: ',ACC_max_date)\n",
    "print('HeartR start: ',HeartR_min_date,'HeartR end: ',HeartR_max_date)\n",
    "print('SleepL start: ',SleepL_min_date,'SleepL end: ',SleepL_max_date)"
   ]
  },
  {
   "cell_type": "code",
   "execution_count": 7,
   "metadata": {},
   "outputs": [],
   "source": [
    "ACC_new = ACC[(ACC['timedelta'] > ACC_min_date) &(ACC['timedelta'] < ACC_max_date) &(ACC['timedelta'] > HeartR_min_date) &(ACC['timedelta'] < HeartR_max_date)&(ACC['timedelta'] > SleepL_min_date) &(ACC['timedelta'] < SleepL_max_date)]\n",
    "HeartR_new = HeartR[(HeartR['timedelta'] > ACC_min_date) &(HeartR['timedelta'] < ACC_max_date) &(HeartR['timedelta'] > HeartR_min_date) &(HeartR['timedelta'] < HeartR_max_date)&(HeartR['timedelta'] > SleepL_min_date) &(HeartR['timedelta'] < SleepL_max_date)]\n",
    "SleepL_new = SleepL[(SleepL['timedelta'] > ACC_min_date) &(SleepL['timedelta'] < ACC_max_date) &(SleepL['timedelta'] > HeartR_min_date) &(SleepL['timedelta'] < HeartR_max_date)&(SleepL['timedelta'] > SleepL_min_date) &(SleepL['timedelta'] < SleepL_max_date)]"
   ]
  },
  {
   "cell_type": "code",
   "execution_count": 8,
   "metadata": {},
   "outputs": [],
   "source": [
    "ACC_new['timedelta'] = pd.DataFrame(pd.to_timedelta(ACC_new['timedelta'], 'seconds').round('1s'))\n",
    "HeartR_new['timedelta'] = pd.DataFrame(pd.to_timedelta(HeartR_new['timedelta'], 'seconds').round('1s'))\n",
    "SleepL_new['timedelta'] = pd.DataFrame(pd.to_timedelta(SleepL_new['timedelta'], 'seconds').round('1s'))"
   ]
  },
  {
   "cell_type": "code",
   "execution_count": 9,
   "metadata": {},
   "outputs": [],
   "source": [
    "df_acc_X = ACC_new.groupby('timedelta')['accX'].mean()\n",
    "df_acc_Y = ACC_new.groupby('timedelta')['accY'].mean()\n",
    "df_acc_Z = ACC_new.groupby('timedelta')['accZ'].mean()"
   ]
  },
  {
   "cell_type": "code",
   "execution_count": 10,
   "metadata": {},
   "outputs": [],
   "source": [
    "ACC_new_2 = pd.concat([df_acc_X, df_acc_Y, df_acc_Z], axis=1).reset_index()\n",
    "ACC_new_2['timedelta'] = ACC_new_2['timedelta'] - ACC_new_2['timedelta'].min()"
   ]
  },
  {
   "cell_type": "code",
   "execution_count": 11,
   "metadata": {},
   "outputs": [
    {
     "data": {
      "text/html": [
       "<div>\n",
       "<style scoped>\n",
       "    .dataframe tbody tr th:only-of-type {\n",
       "        vertical-align: middle;\n",
       "    }\n",
       "\n",
       "    .dataframe tbody tr th {\n",
       "        vertical-align: top;\n",
       "    }\n",
       "\n",
       "    .dataframe thead th {\n",
       "        text-align: right;\n",
       "    }\n",
       "</style>\n",
       "<table border=\"1\" class=\"dataframe\">\n",
       "  <thead>\n",
       "    <tr style=\"text-align: right;\">\n",
       "      <th></th>\n",
       "      <th>heartrate</th>\n",
       "    </tr>\n",
       "    <tr>\n",
       "      <th>timedelta</th>\n",
       "      <th></th>\n",
       "    </tr>\n",
       "  </thead>\n",
       "  <tbody>\n",
       "    <tr>\n",
       "      <th>0 days 00:00:08</th>\n",
       "      <td>97.0</td>\n",
       "    </tr>\n",
       "    <tr>\n",
       "      <th>0 days 00:00:09</th>\n",
       "      <td>97.0</td>\n",
       "    </tr>\n",
       "    <tr>\n",
       "      <th>0 days 00:00:10</th>\n",
       "      <td>97.0</td>\n",
       "    </tr>\n",
       "    <tr>\n",
       "      <th>0 days 00:00:11</th>\n",
       "      <td>97.0</td>\n",
       "    </tr>\n",
       "    <tr>\n",
       "      <th>0 days 00:00:12</th>\n",
       "      <td>97.0</td>\n",
       "    </tr>\n",
       "    <tr>\n",
       "      <th>...</th>\n",
       "      <td>...</td>\n",
       "    </tr>\n",
       "    <tr>\n",
       "      <th>0 days 04:42:51</th>\n",
       "      <td>75.0</td>\n",
       "    </tr>\n",
       "    <tr>\n",
       "      <th>0 days 04:42:52</th>\n",
       "      <td>75.0</td>\n",
       "    </tr>\n",
       "    <tr>\n",
       "      <th>0 days 04:42:53</th>\n",
       "      <td>75.0</td>\n",
       "    </tr>\n",
       "    <tr>\n",
       "      <th>0 days 04:42:54</th>\n",
       "      <td>75.0</td>\n",
       "    </tr>\n",
       "    <tr>\n",
       "      <th>0 days 04:42:55</th>\n",
       "      <td>76.0</td>\n",
       "    </tr>\n",
       "  </tbody>\n",
       "</table>\n",
       "<p>16968 rows × 1 columns</p>\n",
       "</div>"
      ],
      "text/plain": [
       "                 heartrate\n",
       "timedelta                 \n",
       "0 days 00:00:08       97.0\n",
       "0 days 00:00:09       97.0\n",
       "0 days 00:00:10       97.0\n",
       "0 days 00:00:11       97.0\n",
       "0 days 00:00:12       97.0\n",
       "...                    ...\n",
       "0 days 04:42:51       75.0\n",
       "0 days 04:42:52       75.0\n",
       "0 days 04:42:53       75.0\n",
       "0 days 04:42:54       75.0\n",
       "0 days 04:42:55       76.0\n",
       "\n",
       "[16968 rows x 1 columns]"
      ]
     },
     "execution_count": 11,
     "metadata": {},
     "output_type": "execute_result"
    }
   ],
   "source": [
    "df_heartrate = HeartR_new.groupby('timedelta')['heartrate'].mean()\n",
    "resample_rule = '1s'\n",
    "HeartR_new2 = HeartR_new.set_index('timedelta').resample(resample_rule,).median().ffill()\n",
    "HeartR_new2"
   ]
  },
  {
   "cell_type": "code",
   "execution_count": 12,
   "metadata": {},
   "outputs": [
    {
     "data": {
      "text/html": [
       "<div>\n",
       "<style scoped>\n",
       "    .dataframe tbody tr th:only-of-type {\n",
       "        vertical-align: middle;\n",
       "    }\n",
       "\n",
       "    .dataframe tbody tr th {\n",
       "        vertical-align: top;\n",
       "    }\n",
       "\n",
       "    .dataframe thead th {\n",
       "        text-align: right;\n",
       "    }\n",
       "</style>\n",
       "<table border=\"1\" class=\"dataframe\">\n",
       "  <thead>\n",
       "    <tr style=\"text-align: right;\">\n",
       "      <th></th>\n",
       "      <th>timedelta</th>\n",
       "      <th>heartrate</th>\n",
       "    </tr>\n",
       "  </thead>\n",
       "  <tbody>\n",
       "    <tr>\n",
       "      <th>0</th>\n",
       "      <td>0 days 00:00:00</td>\n",
       "      <td>97.0</td>\n",
       "    </tr>\n",
       "    <tr>\n",
       "      <th>1</th>\n",
       "      <td>0 days 00:00:01</td>\n",
       "      <td>97.0</td>\n",
       "    </tr>\n",
       "    <tr>\n",
       "      <th>2</th>\n",
       "      <td>0 days 00:00:02</td>\n",
       "      <td>97.0</td>\n",
       "    </tr>\n",
       "    <tr>\n",
       "      <th>3</th>\n",
       "      <td>0 days 00:00:03</td>\n",
       "      <td>97.0</td>\n",
       "    </tr>\n",
       "    <tr>\n",
       "      <th>4</th>\n",
       "      <td>0 days 00:00:04</td>\n",
       "      <td>97.0</td>\n",
       "    </tr>\n",
       "    <tr>\n",
       "      <th>...</th>\n",
       "      <td>...</td>\n",
       "      <td>...</td>\n",
       "    </tr>\n",
       "    <tr>\n",
       "      <th>16963</th>\n",
       "      <td>0 days 04:42:43</td>\n",
       "      <td>75.0</td>\n",
       "    </tr>\n",
       "    <tr>\n",
       "      <th>16964</th>\n",
       "      <td>0 days 04:42:44</td>\n",
       "      <td>75.0</td>\n",
       "    </tr>\n",
       "    <tr>\n",
       "      <th>16965</th>\n",
       "      <td>0 days 04:42:45</td>\n",
       "      <td>75.0</td>\n",
       "    </tr>\n",
       "    <tr>\n",
       "      <th>16966</th>\n",
       "      <td>0 days 04:42:46</td>\n",
       "      <td>75.0</td>\n",
       "    </tr>\n",
       "    <tr>\n",
       "      <th>16967</th>\n",
       "      <td>0 days 04:42:47</td>\n",
       "      <td>76.0</td>\n",
       "    </tr>\n",
       "  </tbody>\n",
       "</table>\n",
       "<p>16968 rows × 2 columns</p>\n",
       "</div>"
      ],
      "text/plain": [
       "            timedelta  heartrate\n",
       "0     0 days 00:00:00       97.0\n",
       "1     0 days 00:00:01       97.0\n",
       "2     0 days 00:00:02       97.0\n",
       "3     0 days 00:00:03       97.0\n",
       "4     0 days 00:00:04       97.0\n",
       "...               ...        ...\n",
       "16963 0 days 04:42:43       75.0\n",
       "16964 0 days 04:42:44       75.0\n",
       "16965 0 days 04:42:45       75.0\n",
       "16966 0 days 04:42:46       75.0\n",
       "16967 0 days 04:42:47       76.0\n",
       "\n",
       "[16968 rows x 2 columns]"
      ]
     },
     "execution_count": 12,
     "metadata": {},
     "output_type": "execute_result"
    }
   ],
   "source": [
    "df_heartrate = HeartR_new.groupby('timedelta')['heartrate'].mean()\n",
    "\n",
    "resample_rule = '1s'\n",
    "HeartR_new2 = HeartR_new.set_index('timedelta').resample(resample_rule,).median().ffill()\n",
    "HeartR_new_2 = pd.concat([HeartR_new2], axis=1).reset_index()\n",
    "HeartR_new_2['timedelta'] = HeartR_new_2['timedelta']-HeartR_new_2['timedelta'].min()\n",
    "HeartR_new_2"
   ]
  },
  {
   "cell_type": "code",
   "execution_count": 13,
   "metadata": {},
   "outputs": [
    {
     "data": {
      "text/html": [
       "<div>\n",
       "<style scoped>\n",
       "    .dataframe tbody tr th:only-of-type {\n",
       "        vertical-align: middle;\n",
       "    }\n",
       "\n",
       "    .dataframe tbody tr th {\n",
       "        vertical-align: top;\n",
       "    }\n",
       "\n",
       "    .dataframe thead th {\n",
       "        text-align: right;\n",
       "    }\n",
       "</style>\n",
       "<table border=\"1\" class=\"dataframe\">\n",
       "  <thead>\n",
       "    <tr style=\"text-align: right;\">\n",
       "      <th></th>\n",
       "      <th>sleep</th>\n",
       "    </tr>\n",
       "    <tr>\n",
       "      <th>timedelta</th>\n",
       "      <th></th>\n",
       "    </tr>\n",
       "  </thead>\n",
       "  <tbody>\n",
       "    <tr>\n",
       "      <th>0 days 00:00:30</th>\n",
       "      <td>-1.0</td>\n",
       "    </tr>\n",
       "    <tr>\n",
       "      <th>0 days 00:00:31</th>\n",
       "      <td>-1.0</td>\n",
       "    </tr>\n",
       "    <tr>\n",
       "      <th>0 days 00:00:32</th>\n",
       "      <td>-1.0</td>\n",
       "    </tr>\n",
       "    <tr>\n",
       "      <th>0 days 00:00:33</th>\n",
       "      <td>-1.0</td>\n",
       "    </tr>\n",
       "    <tr>\n",
       "      <th>0 days 00:00:34</th>\n",
       "      <td>-1.0</td>\n",
       "    </tr>\n",
       "    <tr>\n",
       "      <th>...</th>\n",
       "      <td>...</td>\n",
       "    </tr>\n",
       "    <tr>\n",
       "      <th>0 days 04:42:26</th>\n",
       "      <td>0.0</td>\n",
       "    </tr>\n",
       "    <tr>\n",
       "      <th>0 days 04:42:27</th>\n",
       "      <td>0.0</td>\n",
       "    </tr>\n",
       "    <tr>\n",
       "      <th>0 days 04:42:28</th>\n",
       "      <td>0.0</td>\n",
       "    </tr>\n",
       "    <tr>\n",
       "      <th>0 days 04:42:29</th>\n",
       "      <td>0.0</td>\n",
       "    </tr>\n",
       "    <tr>\n",
       "      <th>0 days 04:42:30</th>\n",
       "      <td>0.0</td>\n",
       "    </tr>\n",
       "  </tbody>\n",
       "</table>\n",
       "<p>16921 rows × 1 columns</p>\n",
       "</div>"
      ],
      "text/plain": [
       "                 sleep\n",
       "timedelta             \n",
       "0 days 00:00:30   -1.0\n",
       "0 days 00:00:31   -1.0\n",
       "0 days 00:00:32   -1.0\n",
       "0 days 00:00:33   -1.0\n",
       "0 days 00:00:34   -1.0\n",
       "...                ...\n",
       "0 days 04:42:26    0.0\n",
       "0 days 04:42:27    0.0\n",
       "0 days 04:42:28    0.0\n",
       "0 days 04:42:29    0.0\n",
       "0 days 04:42:30    0.0\n",
       "\n",
       "[16921 rows x 1 columns]"
      ]
     },
     "execution_count": 13,
     "metadata": {},
     "output_type": "execute_result"
    }
   ],
   "source": [
    "resample_rule = '1s'\n",
    "SleepL_new2 = SleepL_new.set_index('timedelta').resample(resample_rule,).median().ffill()\n",
    "SleepL_new2"
   ]
  },
  {
   "cell_type": "code",
   "execution_count": 14,
   "metadata": {},
   "outputs": [
    {
     "data": {
      "text/html": [
       "<div>\n",
       "<style scoped>\n",
       "    .dataframe tbody tr th:only-of-type {\n",
       "        vertical-align: middle;\n",
       "    }\n",
       "\n",
       "    .dataframe tbody tr th {\n",
       "        vertical-align: top;\n",
       "    }\n",
       "\n",
       "    .dataframe thead th {\n",
       "        text-align: right;\n",
       "    }\n",
       "</style>\n",
       "<table border=\"1\" class=\"dataframe\">\n",
       "  <thead>\n",
       "    <tr style=\"text-align: right;\">\n",
       "      <th></th>\n",
       "      <th>timedelta</th>\n",
       "      <th>sleep</th>\n",
       "    </tr>\n",
       "  </thead>\n",
       "  <tbody>\n",
       "    <tr>\n",
       "      <th>0</th>\n",
       "      <td>0 days 00:00:00</td>\n",
       "      <td>-1.0</td>\n",
       "    </tr>\n",
       "    <tr>\n",
       "      <th>1</th>\n",
       "      <td>0 days 00:00:01</td>\n",
       "      <td>-1.0</td>\n",
       "    </tr>\n",
       "    <tr>\n",
       "      <th>2</th>\n",
       "      <td>0 days 00:00:02</td>\n",
       "      <td>-1.0</td>\n",
       "    </tr>\n",
       "    <tr>\n",
       "      <th>3</th>\n",
       "      <td>0 days 00:00:03</td>\n",
       "      <td>-1.0</td>\n",
       "    </tr>\n",
       "    <tr>\n",
       "      <th>4</th>\n",
       "      <td>0 days 00:00:04</td>\n",
       "      <td>-1.0</td>\n",
       "    </tr>\n",
       "    <tr>\n",
       "      <th>...</th>\n",
       "      <td>...</td>\n",
       "      <td>...</td>\n",
       "    </tr>\n",
       "    <tr>\n",
       "      <th>16916</th>\n",
       "      <td>0 days 04:41:56</td>\n",
       "      <td>0.0</td>\n",
       "    </tr>\n",
       "    <tr>\n",
       "      <th>16917</th>\n",
       "      <td>0 days 04:41:57</td>\n",
       "      <td>0.0</td>\n",
       "    </tr>\n",
       "    <tr>\n",
       "      <th>16918</th>\n",
       "      <td>0 days 04:41:58</td>\n",
       "      <td>0.0</td>\n",
       "    </tr>\n",
       "    <tr>\n",
       "      <th>16919</th>\n",
       "      <td>0 days 04:41:59</td>\n",
       "      <td>0.0</td>\n",
       "    </tr>\n",
       "    <tr>\n",
       "      <th>16920</th>\n",
       "      <td>0 days 04:42:00</td>\n",
       "      <td>0.0</td>\n",
       "    </tr>\n",
       "  </tbody>\n",
       "</table>\n",
       "<p>16921 rows × 2 columns</p>\n",
       "</div>"
      ],
      "text/plain": [
       "            timedelta  sleep\n",
       "0     0 days 00:00:00   -1.0\n",
       "1     0 days 00:00:01   -1.0\n",
       "2     0 days 00:00:02   -1.0\n",
       "3     0 days 00:00:03   -1.0\n",
       "4     0 days 00:00:04   -1.0\n",
       "...               ...    ...\n",
       "16916 0 days 04:41:56    0.0\n",
       "16917 0 days 04:41:57    0.0\n",
       "16918 0 days 04:41:58    0.0\n",
       "16919 0 days 04:41:59    0.0\n",
       "16920 0 days 04:42:00    0.0\n",
       "\n",
       "[16921 rows x 2 columns]"
      ]
     },
     "execution_count": 14,
     "metadata": {},
     "output_type": "execute_result"
    }
   ],
   "source": [
    "df_SleepL = SleepL_new.groupby('timedelta')['sleep'].mean()\n",
    "resample_rule = '1s'\n",
    "SleepL_new2 = SleepL_new.set_index('timedelta').resample(resample_rule,).median().ffill()\n",
    "SleepL_new_2 = pd.concat([SleepL_new2], axis=1).reset_index()\n",
    "SleepL_new_2['timedelta'] = SleepL_new_2['timedelta']-SleepL_new_2['timedelta'].min()\n",
    "SleepL_new_2"
   ]
  },
  {
   "cell_type": "code",
   "execution_count": 15,
   "metadata": {},
   "outputs": [
    {
     "data": {
      "text/html": [
       "<div>\n",
       "<style scoped>\n",
       "    .dataframe tbody tr th:only-of-type {\n",
       "        vertical-align: middle;\n",
       "    }\n",
       "\n",
       "    .dataframe tbody tr th {\n",
       "        vertical-align: top;\n",
       "    }\n",
       "\n",
       "    .dataframe thead th {\n",
       "        text-align: right;\n",
       "    }\n",
       "</style>\n",
       "<table border=\"1\" class=\"dataframe\">\n",
       "  <thead>\n",
       "    <tr style=\"text-align: right;\">\n",
       "      <th></th>\n",
       "      <th>timedelta</th>\n",
       "      <th>accX</th>\n",
       "      <th>accY</th>\n",
       "      <th>accZ</th>\n",
       "      <th>heartrate</th>\n",
       "      <th>sleep</th>\n",
       "    </tr>\n",
       "  </thead>\n",
       "  <tbody>\n",
       "    <tr>\n",
       "      <th>0</th>\n",
       "      <td>0 days 00:00:00</td>\n",
       "      <td>-0.243203</td>\n",
       "      <td>0.895372</td>\n",
       "      <td>0.367591</td>\n",
       "      <td>97.0</td>\n",
       "      <td>-1.0</td>\n",
       "    </tr>\n",
       "    <tr>\n",
       "      <th>1</th>\n",
       "      <td>0 days 00:00:01</td>\n",
       "      <td>-0.240757</td>\n",
       "      <td>0.873826</td>\n",
       "      <td>0.415446</td>\n",
       "      <td>97.0</td>\n",
       "      <td>-1.0</td>\n",
       "    </tr>\n",
       "    <tr>\n",
       "      <th>2</th>\n",
       "      <td>0 days 00:00:02</td>\n",
       "      <td>-0.244620</td>\n",
       "      <td>0.883943</td>\n",
       "      <td>0.387026</td>\n",
       "      <td>97.0</td>\n",
       "      <td>-1.0</td>\n",
       "    </tr>\n",
       "    <tr>\n",
       "      <th>3</th>\n",
       "      <td>0 days 00:00:03</td>\n",
       "      <td>-0.248036</td>\n",
       "      <td>0.902427</td>\n",
       "      <td>0.347812</td>\n",
       "      <td>97.0</td>\n",
       "      <td>-1.0</td>\n",
       "    </tr>\n",
       "    <tr>\n",
       "      <th>4</th>\n",
       "      <td>0 days 00:00:04</td>\n",
       "      <td>-0.241778</td>\n",
       "      <td>0.912946</td>\n",
       "      <td>0.321502</td>\n",
       "      <td>97.0</td>\n",
       "      <td>-1.0</td>\n",
       "    </tr>\n",
       "    <tr>\n",
       "      <th>...</th>\n",
       "      <td>...</td>\n",
       "      <td>...</td>\n",
       "      <td>...</td>\n",
       "      <td>...</td>\n",
       "      <td>...</td>\n",
       "      <td>...</td>\n",
       "    </tr>\n",
       "    <tr>\n",
       "      <th>16976</th>\n",
       "      <td>0 days 04:42:56</td>\n",
       "      <td>-0.442763</td>\n",
       "      <td>-0.525892</td>\n",
       "      <td>0.722950</td>\n",
       "      <td>76.0</td>\n",
       "      <td>0.0</td>\n",
       "    </tr>\n",
       "    <tr>\n",
       "      <th>16977</th>\n",
       "      <td>0 days 04:42:57</td>\n",
       "      <td>-0.441990</td>\n",
       "      <td>-0.525476</td>\n",
       "      <td>0.723410</td>\n",
       "      <td>76.0</td>\n",
       "      <td>0.0</td>\n",
       "    </tr>\n",
       "    <tr>\n",
       "      <th>16978</th>\n",
       "      <td>0 days 04:42:58</td>\n",
       "      <td>-0.441581</td>\n",
       "      <td>-0.525116</td>\n",
       "      <td>0.724003</td>\n",
       "      <td>76.0</td>\n",
       "      <td>0.0</td>\n",
       "    </tr>\n",
       "    <tr>\n",
       "      <th>16979</th>\n",
       "      <td>0 days 04:42:59</td>\n",
       "      <td>-0.442283</td>\n",
       "      <td>-0.525849</td>\n",
       "      <td>0.723265</td>\n",
       "      <td>76.0</td>\n",
       "      <td>0.0</td>\n",
       "    </tr>\n",
       "    <tr>\n",
       "      <th>16980</th>\n",
       "      <td>0 days 04:43:00</td>\n",
       "      <td>-0.442674</td>\n",
       "      <td>-0.525962</td>\n",
       "      <td>0.722678</td>\n",
       "      <td>76.0</td>\n",
       "      <td>0.0</td>\n",
       "    </tr>\n",
       "  </tbody>\n",
       "</table>\n",
       "<p>16981 rows × 6 columns</p>\n",
       "</div>"
      ],
      "text/plain": [
       "            timedelta      accX      accY      accZ  heartrate  sleep\n",
       "0     0 days 00:00:00 -0.243203  0.895372  0.367591       97.0   -1.0\n",
       "1     0 days 00:00:01 -0.240757  0.873826  0.415446       97.0   -1.0\n",
       "2     0 days 00:00:02 -0.244620  0.883943  0.387026       97.0   -1.0\n",
       "3     0 days 00:00:03 -0.248036  0.902427  0.347812       97.0   -1.0\n",
       "4     0 days 00:00:04 -0.241778  0.912946  0.321502       97.0   -1.0\n",
       "...               ...       ...       ...       ...        ...    ...\n",
       "16976 0 days 04:42:56 -0.442763 -0.525892  0.722950       76.0    0.0\n",
       "16977 0 days 04:42:57 -0.441990 -0.525476  0.723410       76.0    0.0\n",
       "16978 0 days 04:42:58 -0.441581 -0.525116  0.724003       76.0    0.0\n",
       "16979 0 days 04:42:59 -0.442283 -0.525849  0.723265       76.0    0.0\n",
       "16980 0 days 04:43:00 -0.442674 -0.525962  0.722678       76.0    0.0\n",
       "\n",
       "[16981 rows x 6 columns]"
      ]
     },
     "execution_count": 15,
     "metadata": {},
     "output_type": "execute_result"
    }
   ],
   "source": [
    "df_all = []\n",
    "df_all = pd.merge_asof(ACC_new_2, HeartR_new_2, on='timedelta')\n",
    "df_all = pd.merge_asof(df_all, SleepL_new_2, on = 'timedelta')\n",
    "df_all"
   ]
  },
  {
   "cell_type": "code",
   "execution_count": 16,
   "metadata": {},
   "outputs": [],
   "source": [
    "df_all['sleep'] = df_all['sleep'].replace(-1,0)\n",
    "df_all['heartrate'].fillna(df_all['heartrate'].median())\n",
    "df_all['sleep'].fillna(0)\n",
    "df_all = df_all.drop(columns='timedelta')"
   ]
  },
  {
   "cell_type": "code",
   "execution_count": 17,
   "metadata": {},
   "outputs": [],
   "source": [
    "feature_columns = ['accX', 'accY', 'accZ', 'heartrate']\n",
    "label_columns = ['sleep']\n",
    "df_feature = df_all[feature_columns]\n",
    "scaler = preprocessing.StandardScaler()\n",
    "df_feature = pd.DataFrame(scaler.fit_transform(df_feature.values),index = df_feature.index,columns=df_feature.columns)\n",
    "df_label = df_all[label_columns]"
   ]
  },
  {
   "cell_type": "code",
   "execution_count": 18,
   "metadata": {},
   "outputs": [
    {
     "data": {
      "text/plain": [
       "<AxesSubplot:>"
      ]
     },
     "execution_count": 18,
     "metadata": {},
     "output_type": "execute_result"
    },
    {
     "data": {
      "image/png": "[encoded data removed]",
      "text/plain": [
       "<Figure size 640x480 with 1 Axes>"
      ]
     },
     "metadata": {},
     "output_type": "display_data"
    }
   ],
   "source": [
    "df_feature.plot.line()"
   ]
  },
  {
   "cell_type": "code",
   "execution_count": 19,
   "metadata": {},
   "outputs": [
    {
     "data": {
      "text/plain": [
       "<AxesSubplot:>"
      ]
     },
     "execution_count": 19,
     "metadata": {},
     "output_type": "execute_result"
    },
    {
     "data": {
      "image/png": "[encoded data removed]",
      "text/plain": [
       "<Figure size 640x480 with 1 Axes>"
      ]
     },
     "metadata": {},
     "output_type": "display_data"
    }
   ],
   "source": [
    "df_label.plot.line()"
   ]
  },
  {
   "cell_type": "code",
   "execution_count": 20,
   "metadata": {},
   "outputs": [
    {
     "data": {
      "text/html": [
       "<div>\n",
       "<style scoped>\n",
       "    .dataframe tbody tr th:only-of-type {\n",
       "        vertical-align: middle;\n",
       "    }\n",
       "\n",
       "    .dataframe tbody tr th {\n",
       "        vertical-align: top;\n",
       "    }\n",
       "\n",
       "    .dataframe thead th {\n",
       "        text-align: right;\n",
       "    }\n",
       "</style>\n",
       "<table border=\"1\" class=\"dataframe\">\n",
       "  <thead>\n",
       "    <tr style=\"text-align: right;\">\n",
       "      <th></th>\n",
       "      <th>accX</th>\n",
       "      <th>accY</th>\n",
       "      <th>accZ</th>\n",
       "      <th>heartrate</th>\n",
       "    </tr>\n",
       "  </thead>\n",
       "  <tbody>\n",
       "    <tr>\n",
       "      <th>0</th>\n",
       "      <td>-0.587547</td>\n",
       "      <td>3.058075</td>\n",
       "      <td>0.698728</td>\n",
       "      <td>2.078705</td>\n",
       "    </tr>\n",
       "    <tr>\n",
       "      <th>1</th>\n",
       "      <td>-0.581456</td>\n",
       "      <td>2.995094</td>\n",
       "      <td>0.757746</td>\n",
       "      <td>2.078705</td>\n",
       "    </tr>\n",
       "    <tr>\n",
       "      <th>2</th>\n",
       "      <td>-0.591075</td>\n",
       "      <td>3.024668</td>\n",
       "      <td>0.722696</td>\n",
       "      <td>2.078705</td>\n",
       "    </tr>\n",
       "    <tr>\n",
       "      <th>3</th>\n",
       "      <td>-0.599581</td>\n",
       "      <td>3.078699</td>\n",
       "      <td>0.674335</td>\n",
       "      <td>2.078705</td>\n",
       "    </tr>\n",
       "    <tr>\n",
       "      <th>4</th>\n",
       "      <td>-0.583998</td>\n",
       "      <td>3.109450</td>\n",
       "      <td>0.641889</td>\n",
       "      <td>2.078705</td>\n",
       "    </tr>\n",
       "    <tr>\n",
       "      <th>...</th>\n",
       "      <td>...</td>\n",
       "      <td>...</td>\n",
       "      <td>...</td>\n",
       "      <td>...</td>\n",
       "    </tr>\n",
       "    <tr>\n",
       "      <th>16976</th>\n",
       "      <td>-1.084456</td>\n",
       "      <td>-1.096565</td>\n",
       "      <td>1.136974</td>\n",
       "      <td>-0.630035</td>\n",
       "    </tr>\n",
       "    <tr>\n",
       "      <th>16977</th>\n",
       "      <td>-1.082531</td>\n",
       "      <td>-1.095348</td>\n",
       "      <td>1.137542</td>\n",
       "      <td>-0.630035</td>\n",
       "    </tr>\n",
       "    <tr>\n",
       "      <th>16978</th>\n",
       "      <td>-1.081511</td>\n",
       "      <td>-1.094296</td>\n",
       "      <td>1.138273</td>\n",
       "      <td>-0.630035</td>\n",
       "    </tr>\n",
       "    <tr>\n",
       "      <th>16979</th>\n",
       "      <td>-1.083260</td>\n",
       "      <td>-1.096440</td>\n",
       "      <td>1.137363</td>\n",
       "      <td>-0.630035</td>\n",
       "    </tr>\n",
       "    <tr>\n",
       "      <th>16980</th>\n",
       "      <td>-1.084234</td>\n",
       "      <td>-1.096769</td>\n",
       "      <td>1.136639</td>\n",
       "      <td>-0.630035</td>\n",
       "    </tr>\n",
       "  </tbody>\n",
       "</table>\n",
       "<p>16981 rows × 4 columns</p>\n",
       "</div>"
      ],
      "text/plain": [
       "           accX      accY      accZ  heartrate\n",
       "0     -0.587547  3.058075  0.698728   2.078705\n",
       "1     -0.581456  2.995094  0.757746   2.078705\n",
       "2     -0.591075  3.024668  0.722696   2.078705\n",
       "3     -0.599581  3.078699  0.674335   2.078705\n",
       "4     -0.583998  3.109450  0.641889   2.078705\n",
       "...         ...       ...       ...        ...\n",
       "16976 -1.084456 -1.096565  1.136974  -0.630035\n",
       "16977 -1.082531 -1.095348  1.137542  -0.630035\n",
       "16978 -1.081511 -1.094296  1.138273  -0.630035\n",
       "16979 -1.083260 -1.096440  1.137363  -0.630035\n",
       "16980 -1.084234 -1.096769  1.136639  -0.630035\n",
       "\n",
       "[16981 rows x 4 columns]"
      ]
     },
     "execution_count": 20,
     "metadata": {},
     "output_type": "execute_result"
    }
   ],
   "source": [
    "df_feature"
   ]
  },
  {
   "cell_type": "code",
   "execution_count": 21,
   "metadata": {},
   "outputs": [
    {
     "data": {
      "text/html": [
       "<div>\n",
       "<style scoped>\n",
       "    .dataframe tbody tr th:only-of-type {\n",
       "        vertical-align: middle;\n",
       "    }\n",
       "\n",
       "    .dataframe tbody tr th {\n",
       "        vertical-align: top;\n",
       "    }\n",
       "\n",
       "    .dataframe thead th {\n",
       "        text-align: right;\n",
       "    }\n",
       "</style>\n",
       "<table border=\"1\" class=\"dataframe\">\n",
       "  <thead>\n",
       "    <tr style=\"text-align: right;\">\n",
       "      <th></th>\n",
       "      <th>sleep</th>\n",
       "    </tr>\n",
       "  </thead>\n",
       "  <tbody>\n",
       "    <tr>\n",
       "      <th>0</th>\n",
       "      <td>0.0</td>\n",
       "    </tr>\n",
       "    <tr>\n",
       "      <th>1</th>\n",
       "      <td>0.0</td>\n",
       "    </tr>\n",
       "    <tr>\n",
       "      <th>2</th>\n",
       "      <td>0.0</td>\n",
       "    </tr>\n",
       "    <tr>\n",
       "      <th>3</th>\n",
       "      <td>0.0</td>\n",
       "    </tr>\n",
       "    <tr>\n",
       "      <th>4</th>\n",
       "      <td>0.0</td>\n",
       "    </tr>\n",
       "    <tr>\n",
       "      <th>...</th>\n",
       "      <td>...</td>\n",
       "    </tr>\n",
       "    <tr>\n",
       "      <th>16976</th>\n",
       "      <td>0.0</td>\n",
       "    </tr>\n",
       "    <tr>\n",
       "      <th>16977</th>\n",
       "      <td>0.0</td>\n",
       "    </tr>\n",
       "    <tr>\n",
       "      <th>16978</th>\n",
       "      <td>0.0</td>\n",
       "    </tr>\n",
       "    <tr>\n",
       "      <th>16979</th>\n",
       "      <td>0.0</td>\n",
       "    </tr>\n",
       "    <tr>\n",
       "      <th>16980</th>\n",
       "      <td>0.0</td>\n",
       "    </tr>\n",
       "  </tbody>\n",
       "</table>\n",
       "<p>16981 rows × 1 columns</p>\n",
       "</div>"
      ],
      "text/plain": [
       "       sleep\n",
       "0        0.0\n",
       "1        0.0\n",
       "2        0.0\n",
       "3        0.0\n",
       "4        0.0\n",
       "...      ...\n",
       "16976    0.0\n",
       "16977    0.0\n",
       "16978    0.0\n",
       "16979    0.0\n",
       "16980    0.0\n",
       "\n",
       "[16981 rows x 1 columns]"
      ]
     },
     "execution_count": 21,
     "metadata": {},
     "output_type": "execute_result"
    }
   ],
   "source": [
    "df_label"
   ]
  },
  {
   "cell_type": "code",
   "execution_count": 22,
   "metadata": {},
   "outputs": [
    {
     "name": "stdout",
     "output_type": "stream",
     "text": [
      "           accX      accY      accZ  heartrate\n",
      "0     -0.587547  3.058075  0.698728   2.078705\n",
      "1     -0.584501  3.026584  0.728237   2.078705\n",
      "2     -0.586693  3.025946  0.726390   2.078705\n",
      "3     -0.589915  3.039134  0.713376   2.078705\n",
      "4     -0.588732  3.053197  0.699079   2.078705\n",
      "...         ...       ...       ...        ...\n",
      "16976 -1.083093 -1.096081  1.137686  -0.630035\n",
      "16977 -1.082878 -1.095794  1.137665  -0.630035\n",
      "16978 -1.082621 -1.095441  1.137763  -0.630035\n",
      "16979 -1.082981 -1.095685  1.137570  -0.630035\n",
      "16980 -1.083198 -1.095884  1.137358  -0.630035\n",
      "\n",
      "[16981 rows x 4 columns]\n",
      "           accX      accY      accZ  heartrate\n",
      "0     -0.587547  3.058075  0.698728   2.078705\n",
      "1     -0.581456  2.995094  0.757746   2.078705\n",
      "2     -0.591075  3.024668  0.722696   2.078705\n",
      "3     -0.599581  3.078699  0.674335   2.078705\n",
      "4     -0.583998  3.109450  0.641889   2.078705\n",
      "...         ...       ...       ...        ...\n",
      "16976 -1.084456 -1.096565  1.136974  -0.630035\n",
      "16977 -1.082531 -1.095348  1.137542  -0.630035\n",
      "16978 -1.081511 -1.094296  1.138273  -0.630035\n",
      "16979 -1.083260 -1.096440  1.137363  -0.630035\n",
      "16980 -1.084234 -1.096769  1.136639  -0.630035\n",
      "\n",
      "[16981 rows x 4 columns]\n"
     ]
    }
   ],
   "source": [
    "# ------------Simple Moving Average (SMA) ------------------------------\n",
    "df_feature_SMA = pd.DataFrame()\n",
    "columns=['accX', 'accY', 'accZ', 'heartrate']\n",
    "df_feature_SMA['accX'] = df_feature['accX'].rolling(5, min_periods=1).mean()\n",
    "df_feature_SMA['accY'] = df_feature['accY'].rolling(5, min_periods=1).mean()\n",
    "df_feature_SMA['accZ'] = df_feature['accZ'].rolling(5, min_periods=1).mean()\n",
    "df_feature_SMA['heartrate'] = df_feature['heartrate'].rolling(5, min_periods=1).mean()\n",
    "print(df_feature_SMA)\n",
    "print(df_feature)"
   ]
  },
  {
   "cell_type": "code",
   "execution_count": 23,
   "metadata": {},
   "outputs": [
    {
     "name": "stdout",
     "output_type": "stream",
     "text": [
      "[[[-0.58754699  3.05807519  0.69872824  2.07870531]\n",
      "  [-0.58145574  2.99509378  0.75774575  2.07870531]\n",
      "  [-0.59107524  3.02466836  0.72269623  2.07870531]\n",
      "  ...\n",
      "  [-0.92104538  3.14574551  0.23209668  0.27287859]\n",
      "  [-0.91866235  3.14714076  0.23126907  0.27287859]\n",
      "  [-0.90930807  3.15256736  0.23283358  0.27287859]]\n",
      "\n",
      " [[-0.63079638  3.06967162  0.66802186  1.82073006]\n",
      "  [-0.65623081  3.03358303  0.6929944   1.82073006]\n",
      "  [-0.61745949  3.04996268  0.70392346  1.82073006]\n",
      "  ...\n",
      "  [-0.92642696  3.14347961  0.2498879   0.27287859]\n",
      "  [-0.92573315  3.14479812  0.24662261  0.27287859]\n",
      "  [-0.92884721  3.14333154  0.24502384  0.27287859]]\n",
      "\n",
      " [[-0.63628057  3.0250707   0.71564591  1.94971769]\n",
      "  [-0.62761322  3.01867796  0.73035476  1.82073006]\n",
      "  [-0.57525196  3.01737999  0.71955327  1.82073006]\n",
      "  ...\n",
      "  [-0.94121296  3.13656413  0.25052318  0.27287859]\n",
      "  [-0.93930714  3.14278647  0.25643917  0.14389097]\n",
      "  [-0.95057638  3.12620338  0.28615041  0.14389097]]\n",
      "\n",
      " ...\n",
      "\n",
      " [[-1.08102654 -1.09954191  1.13738879 -0.75902239]\n",
      "  [-1.08085481 -1.10037689  1.13740422 -0.75902239]\n",
      "  [-1.07976284 -1.09760338  1.13807338 -0.75902239]\n",
      "  ...\n",
      "  [-1.08372875 -1.0964053   1.13772148 -0.63003477]\n",
      "  [-1.0837789  -1.09655605  1.13742264 -0.63003477]\n",
      "  [-1.0818642  -1.09432701  1.13831963 -0.63003477]]\n",
      "\n",
      " [[-1.08000604 -1.09858737  1.13778546 -0.63003477]\n",
      "  [-1.08078111 -1.09954548  1.13725818 -0.63003477]\n",
      "  [-1.08133812 -1.09961152  1.13684758 -0.63003477]\n",
      "  ...\n",
      "  [-1.08360564 -1.09678534  1.13765073 -0.63003477]\n",
      "  [-1.08279787 -1.09606186  1.13778283 -0.63003477]\n",
      "  [-1.08146043 -1.09521792  1.13832478 -0.63003477]]\n",
      "\n",
      " [[-1.08131455 -1.09931979  1.13702861 -0.63003477]\n",
      "  [-1.08223933 -1.09935726  1.13657961 -0.50104715]\n",
      "  [-1.08022032 -1.09885413  1.1373534  -0.50104715]\n",
      "  ...\n",
      "  [-1.08253116 -1.09534817  1.13754233 -0.63003477]\n",
      "  [-1.08151136 -1.0942955   1.13827323 -0.63003477]\n",
      "  [-1.08325986 -1.09644011  1.13736319 -0.63003477]]]\n",
      "[[[-0.58754699 -0.58145574 -0.59107524 ... -0.92104538 -0.91866235\n",
      "   -0.90930807]\n",
      "  [ 3.05807519  2.99509378  3.02466836 ...  3.14574551  3.14714076\n",
      "    3.15256736]\n",
      "  [ 0.69872824  0.75774575  0.72269623 ...  0.23209668  0.23126907\n",
      "    0.23283358]\n",
      "  [ 2.07870531  2.07870531  2.07870531 ...  0.27287859  0.27287859\n",
      "    0.27287859]]\n",
      "\n",
      " [[-0.63079638 -0.65623081 -0.61745949 ... -0.92642696 -0.92573315\n",
      "   -0.92884721]\n",
      "  [ 3.06967162  3.03358303  3.04996268 ...  3.14347961  3.14479812\n",
      "    3.14333154]\n",
      "  [ 0.66802186  0.6929944   0.70392346 ...  0.2498879   0.24662261\n",
      "    0.24502384]\n",
      "  [ 1.82073006  1.82073006  1.82073006 ...  0.27287859  0.27287859\n",
      "    0.27287859]]\n",
      "\n",
      " [[-0.63628057 -0.62761322 -0.57525196 ... -0.94121296 -0.93930714\n",
      "   -0.95057638]\n",
      "  [ 3.0250707   3.01867796  3.01737999 ...  3.13656413  3.14278647\n",
      "    3.12620338]\n",
      "  [ 0.71564591  0.73035476  0.71955327 ...  0.25052318  0.25643917\n",
      "    0.28615041]\n",
      "  [ 1.94971769  1.82073006  1.82073006 ...  0.27287859  0.14389097\n",
      "    0.14389097]]\n",
      "\n",
      " ...\n",
      "\n",
      " [[-1.08102654 -1.08085481 -1.07976284 ... -1.08372875 -1.0837789\n",
      "   -1.0818642 ]\n",
      "  [-1.09954191 -1.10037689 -1.09760338 ... -1.0964053  -1.09655605\n",
      "   -1.09432701]\n",
      "  [ 1.13738879  1.13740422  1.13807338 ...  1.13772148  1.13742264\n",
      "    1.13831963]\n",
      "  [-0.75902239 -0.75902239 -0.75902239 ... -0.63003477 -0.63003477\n",
      "   -0.63003477]]\n",
      "\n",
      " [[-1.08000604 -1.08078111 -1.08133812 ... -1.08360564 -1.08279787\n",
      "   -1.08146043]\n",
      "  [-1.09858737 -1.09954548 -1.09961152 ... -1.09678534 -1.09606186\n",
      "   -1.09521792]\n",
      "  [ 1.13778546  1.13725818  1.13684758 ...  1.13765073  1.13778283\n",
      "    1.13832478]\n",
      "  [-0.63003477 -0.63003477 -0.63003477 ... -0.63003477 -0.63003477\n",
      "   -0.63003477]]\n",
      "\n",
      " [[-1.08131455 -1.08223933 -1.08022032 ... -1.08253116 -1.08151136\n",
      "   -1.08325986]\n",
      "  [-1.09931979 -1.09935726 -1.09885413 ... -1.09534817 -1.0942955\n",
      "   -1.09644011]\n",
      "  [ 1.13702861  1.13657961  1.1373534  ...  1.13754233  1.13827323\n",
      "    1.13736319]\n",
      "  [-0.63003477 -0.50104715 -0.50104715 ... -0.63003477 -0.63003477\n",
      "   -0.63003477]]]\n"
     ]
    }
   ],
   "source": [
    "# ------------ Train-Test-Split 2D features -------------------------------\n",
    "# set sliding window parameter\n",
    "slidingW = 100 #จ ํานวน row\n",
    "Stride_step = 5\n",
    "df_feature2D = np.array([])\n",
    "df_label_new = np.array([])\n",
    "df_feature2D_T = np.array([])\n",
    "for t in range( 0 , len(df_feature), Stride_step ):\n",
    "    F2d = np.array(df_feature[t:t+slidingW],ndmin=2)\n",
    "    if len(F2d) <slidingW:\n",
    "        break\n",
    "    F2d_T = F2d.transpose()\n",
    "    if df_feature2D.size == 0 :\n",
    "        df_feature2D = F2d\n",
    "        df_feature2D_T = F2d_T\n",
    "    else:\n",
    "        df_feature2D = np.dstack((df_feature2D,F2d))\n",
    "        df_feature2D_T = np.dstack((df_feature2D_T,F2d_T))\n",
    "    Labels = stats.mode(df_label[t : t+slidingW])\n",
    "    df_label_new = np.append(df_label_new,Labels[0])\n",
    "df_feature2D = np.swapaxes(df_feature2D,0,2)\n",
    "df_feature2D_T = np.swapaxes(df_feature2D_T,0,2)\n",
    "print(df_feature2D_T)\n",
    "print(df_feature2D)"
   ]
  },
  {
   "cell_type": "code",
   "execution_count": 24,
   "metadata": {},
   "outputs": [
    {
     "name": "stdout",
     "output_type": "stream",
     "text": [
      "(3377, 4, 100)\n",
      "(3377, 100, 4)\n",
      "(3377,)\n"
     ]
    }
   ],
   "source": [
    "print(df_feature2D.shape)\n",
    "print(df_feature2D_T.shape)\n",
    "print(df_label_new.shape)"
   ]
  },
  {
   "cell_type": "code",
   "execution_count": 25,
   "metadata": {},
   "outputs": [],
   "source": [
    "x_train, x_test, y_train, y_test = model_selection.train_test_split( df_feature2D, df_label_new, test_size = 0.3, random_state = 42)\n",
    "x_train_T, x_test_T, y_train_T, y_test_T = model_selection.train_test_split( df_feature2D_T, df_label_new, test_size = 0.3, random_state = 42)"
   ]
  },
  {
   "cell_type": "code",
   "execution_count": 26,
   "metadata": {},
   "outputs": [],
   "source": [
    "# ------------ LSTM Architecture parameter -------------------------------\n",
    "# Nlayer (LSTM, dense), Nnode, Activation\n",
    "LSTM_L1 = 100 # try 200, 300, 400, 500, 1000\n",
    "LSTM_L2 = 50 # try 50, 100, 150, 200, 250, 300\n",
    "dropRate_L1 = 0.25\n",
    "dropRate_L2 = 0.5\n",
    "D_out = 5\n",
    "Activation = 'Softmax'\n",
    "n_classes = 6\n",
    "inRow = 4\n",
    "inCol = slidingW\n",
    "Input_shape_op1 = (inRow, inCol)\n",
    "Input_shape_op2 = (inCol,inRow)"
   ]
  },
  {
   "cell_type": "code",
   "execution_count": 27,
   "metadata": {},
   "outputs": [
    {
     "name": "stdout",
     "output_type": "stream",
     "text": [
      "Model: \"sequential\"\n",
      "_________________________________________________________________\n",
      " Layer (type)                Output Shape              Param #   \n",
      "=================================================================\n",
      " lstm (LSTM)                 (None, 4, 100)            80400     \n",
      "                                                                 \n",
      " dropout (Dropout)           (None, 4, 100)            0         \n",
      "                                                                 \n",
      " lstm_1 (LSTM)               (None, 50)                30200     \n",
      "                                                                 \n",
      " dropout_1 (Dropout)         (None, 50)                0         \n",
      "                                                                 \n",
      " dense (Dense)               (None, 6)                 306       \n",
      "                                                                 \n",
      "=================================================================\n",
      "Total params: 110,906\n",
      "Trainable params: 110,906\n",
      "Non-trainable params: 0\n",
      "_________________________________________________________________\n"
     ]
    }
   ],
   "source": [
    "# ------------ Create LSTM Model -------------------------------\n",
    "model = Sequential()\n",
    "model.add(LSTM( LSTM_L1, return_sequences=True,input_shape= Input_shape_op1))\n",
    "model.add(Dropout(dropRate_L1 ))\n",
    "model.add(LSTM(LSTM_L2 ))\n",
    "model.add(Dropout(dropRate_L2))\n",
    "model.add(Dense(n_classes, activation='softmax'))\n",
    "model.summary()"
   ]
  },
  {
   "cell_type": "code",
   "execution_count": 28,
   "metadata": {},
   "outputs": [
    {
     "name": "stdout",
     "output_type": "stream",
     "text": [
      "(1014, 4, 100)\n",
      "(1014,)\n",
      "(2363, 4, 100)\n",
      "(2363,)\n"
     ]
    }
   ],
   "source": [
    "# ------------ Create Optimizer -------------------------------\n",
    "model.compile( optimizer='adam',loss='sparse_categorical_crossentropy',metrics=[\"acc\"])\n",
    "print(x_test.shape)\n",
    "print(y_test.shape)\n",
    "print(x_train.shape)\n",
    "print(y_train.shape)"
   ]
  },
  {
   "cell_type": "code",
   "execution_count": 29,
   "metadata": {},
   "outputs": [
    {
     "name": "stdout",
     "output_type": "stream",
     "text": [
      "Epoch 1/50\n",
      "40/40 [==============================] - 21s 116ms/step - loss: 1.3542 - acc: 0.4888 - val_loss: 1.1055 - val_acc: 0.4931\n",
      "Epoch 2/50\n",
      "40/40 [==============================] - 1s 34ms/step - loss: 1.0792 - acc: 0.5612 - val_loss: 0.9213 - val_acc: 0.6499\n",
      "Epoch 3/50\n",
      "40/40 [==============================] - 1s 36ms/step - loss: 0.8871 - acc: 0.6576 - val_loss: 0.7325 - val_acc: 0.7022\n",
      "Epoch 4/50\n",
      "40/40 [==============================] - 1s 34ms/step - loss: 0.7517 - acc: 0.7105 - val_loss: 0.6088 - val_acc: 0.7821\n",
      "Epoch 5/50\n",
      "40/40 [==============================] - 1s 35ms/step - loss: 0.6503 - acc: 0.7402 - val_loss: 0.5370 - val_acc: 0.7909\n",
      "Epoch 6/50\n",
      "40/40 [==============================] - 1s 36ms/step - loss: 0.5717 - acc: 0.7749 - val_loss: 0.4666 - val_acc: 0.8028\n",
      "Epoch 7/50\n",
      "40/40 [==============================] - 1s 36ms/step - loss: 0.4942 - acc: 0.8100 - val_loss: 0.4068 - val_acc: 0.8560\n",
      "Epoch 8/50\n",
      "40/40 [==============================] - 1s 32ms/step - loss: 0.4366 - acc: 0.8396 - val_loss: 0.3587 - val_acc: 0.8649\n",
      "Epoch 9/50\n",
      "40/40 [==============================] - 1s 32ms/step - loss: 0.4098 - acc: 0.8489 - val_loss: 0.3539 - val_acc: 0.8688\n",
      "Epoch 10/50\n",
      "40/40 [==============================] - 1s 33ms/step - loss: 0.3714 - acc: 0.8663 - val_loss: 0.3351 - val_acc: 0.8738\n",
      "Epoch 11/50\n",
      "40/40 [==============================] - 1s 33ms/step - loss: 0.3357 - acc: 0.8785 - val_loss: 0.3012 - val_acc: 0.8826\n",
      "Epoch 12/50\n",
      "40/40 [==============================] - 1s 34ms/step - loss: 0.3257 - acc: 0.8802 - val_loss: 0.3070 - val_acc: 0.8728\n",
      "Epoch 13/50\n",
      "40/40 [==============================] - 2s 39ms/step - loss: 0.2890 - acc: 0.8955 - val_loss: 0.2658 - val_acc: 0.9004\n",
      "Epoch 14/50\n",
      "40/40 [==============================] - 2s 41ms/step - loss: 0.2786 - acc: 0.9022 - val_loss: 0.2593 - val_acc: 0.8945\n",
      "Epoch 15/50\n",
      "40/40 [==============================] - 2s 54ms/step - loss: 0.2595 - acc: 0.9124 - val_loss: 0.2398 - val_acc: 0.8935\n",
      "Epoch 16/50\n",
      "40/40 [==============================] - 2s 48ms/step - loss: 0.2512 - acc: 0.9077 - val_loss: 0.2370 - val_acc: 0.9063\n",
      "Epoch 17/50\n",
      "40/40 [==============================] - 2s 44ms/step - loss: 0.2375 - acc: 0.9018 - val_loss: 0.2565 - val_acc: 0.8767\n",
      "Epoch 18/50\n",
      "40/40 [==============================] - 2s 45ms/step - loss: 0.2321 - acc: 0.9124 - val_loss: 0.2318 - val_acc: 0.8994\n",
      "Epoch 19/50\n",
      "40/40 [==============================] - 1s 36ms/step - loss: 0.2293 - acc: 0.9132 - val_loss: 0.2114 - val_acc: 0.9103\n",
      "Epoch 20/50\n",
      "40/40 [==============================] - 1s 36ms/step - loss: 0.2091 - acc: 0.9204 - val_loss: 0.2061 - val_acc: 0.9093\n",
      "Epoch 21/50\n",
      "40/40 [==============================] - 1s 36ms/step - loss: 0.2098 - acc: 0.9137 - val_loss: 0.2415 - val_acc: 0.8984\n",
      "Epoch 22/50\n",
      "40/40 [==============================] - 1s 36ms/step - loss: 0.2001 - acc: 0.9200 - val_loss: 0.1940 - val_acc: 0.9211\n",
      "Epoch 23/50\n",
      "40/40 [==============================] - 1s 33ms/step - loss: 0.1897 - acc: 0.9302 - val_loss: 0.1955 - val_acc: 0.9241\n",
      "Epoch 24/50\n",
      "40/40 [==============================] - 1s 32ms/step - loss: 0.1915 - acc: 0.9230 - val_loss: 0.1715 - val_acc: 0.9290\n",
      "Epoch 25/50\n",
      "40/40 [==============================] - 1s 33ms/step - loss: 0.1916 - acc: 0.9259 - val_loss: 0.1945 - val_acc: 0.9231\n",
      "Epoch 26/50\n",
      "40/40 [==============================] - 1s 35ms/step - loss: 0.1736 - acc: 0.9336 - val_loss: 0.2130 - val_acc: 0.9024\n",
      "Epoch 27/50\n",
      "40/40 [==============================] - 1s 34ms/step - loss: 0.1769 - acc: 0.9302 - val_loss: 0.1752 - val_acc: 0.9280\n",
      "Epoch 28/50\n",
      "40/40 [==============================] - 2s 38ms/step - loss: 0.1663 - acc: 0.9319 - val_loss: 0.1724 - val_acc: 0.9231\n",
      "Epoch 29/50\n",
      "40/40 [==============================] - 1s 32ms/step - loss: 0.1650 - acc: 0.9314 - val_loss: 0.1608 - val_acc: 0.9349\n",
      "Epoch 30/50\n",
      "40/40 [==============================] - 1s 32ms/step - loss: 0.1624 - acc: 0.9340 - val_loss: 0.1949 - val_acc: 0.9132\n",
      "Epoch 31/50\n",
      "40/40 [==============================] - 1s 32ms/step - loss: 0.1571 - acc: 0.9374 - val_loss: 0.1692 - val_acc: 0.9211\n",
      "Epoch 32/50\n",
      "40/40 [==============================] - 1s 31ms/step - loss: 0.1384 - acc: 0.9463 - val_loss: 0.2570 - val_acc: 0.9063\n",
      "Epoch 33/50\n",
      "40/40 [==============================] - 1s 31ms/step - loss: 0.2114 - acc: 0.9200 - val_loss: 0.1894 - val_acc: 0.9231\n",
      "Epoch 34/50\n",
      "40/40 [==============================] - 1s 31ms/step - loss: 0.1544 - acc: 0.9412 - val_loss: 0.1599 - val_acc: 0.9270\n",
      "Epoch 35/50\n",
      "40/40 [==============================] - 1s 33ms/step - loss: 0.1364 - acc: 0.9424 - val_loss: 0.1554 - val_acc: 0.9300\n",
      "Epoch 36/50\n",
      "40/40 [==============================] - 1s 33ms/step - loss: 0.1345 - acc: 0.9446 - val_loss: 0.1885 - val_acc: 0.9201\n",
      "Epoch 37/50\n",
      "40/40 [==============================] - 1s 33ms/step - loss: 0.1371 - acc: 0.9492 - val_loss: 0.1752 - val_acc: 0.9280\n",
      "Epoch 38/50\n",
      "40/40 [==============================] - 1s 34ms/step - loss: 0.1334 - acc: 0.9479 - val_loss: 0.1586 - val_acc: 0.9359\n",
      "Epoch 39/50\n",
      "40/40 [==============================] - 1s 35ms/step - loss: 0.1260 - acc: 0.9501 - val_loss: 0.1798 - val_acc: 0.9250\n",
      "Epoch 40/50\n",
      "40/40 [==============================] - 1s 33ms/step - loss: 0.1454 - acc: 0.9378 - val_loss: 0.1617 - val_acc: 0.9280\n",
      "Epoch 41/50\n",
      "40/40 [==============================] - 1s 36ms/step - loss: 0.1513 - acc: 0.9412 - val_loss: 0.1482 - val_acc: 0.9280\n",
      "Epoch 42/50\n",
      "40/40 [==============================] - 1s 32ms/step - loss: 0.1354 - acc: 0.9412 - val_loss: 0.1822 - val_acc: 0.9241\n",
      "Epoch 43/50\n",
      "40/40 [==============================] - 1s 32ms/step - loss: 0.1232 - acc: 0.9518 - val_loss: 0.1592 - val_acc: 0.9270\n",
      "Epoch 44/50\n",
      "40/40 [==============================] - 1s 32ms/step - loss: 0.1251 - acc: 0.9488 - val_loss: 0.1682 - val_acc: 0.9310\n",
      "Epoch 45/50\n",
      "40/40 [==============================] - 1s 32ms/step - loss: 0.1192 - acc: 0.9501 - val_loss: 0.1400 - val_acc: 0.9398\n",
      "Epoch 46/50\n",
      "40/40 [==============================] - 1s 36ms/step - loss: 0.1092 - acc: 0.9551 - val_loss: 0.1641 - val_acc: 0.9398\n",
      "Epoch 47/50\n",
      "40/40 [==============================] - 2s 39ms/step - loss: 0.1181 - acc: 0.9488 - val_loss: 0.1528 - val_acc: 0.9290\n",
      "Epoch 48/50\n",
      "40/40 [==============================] - 2s 39ms/step - loss: 0.1163 - acc: 0.9577 - val_loss: 0.1458 - val_acc: 0.9398\n",
      "Epoch 49/50\n",
      "40/40 [==============================] - 2s 39ms/step - loss: 0.1093 - acc: 0.9585 - val_loss: 0.1699 - val_acc: 0.9250\n",
      "Epoch 50/50\n",
      "40/40 [==============================] - 2s 38ms/step - loss: 0.1093 - acc: 0.9590 - val_loss: 0.1499 - val_acc: 0.9349\n"
     ]
    }
   ],
   "source": [
    "# Training the model\n",
    "EP = 50\n",
    "batch_size = 60 # try 20, 40, 60, 80, 100\n",
    "history = model.fit( x_train, y_train,batch_size = batch_size,validation_data=(x_test, y_test), epochs=EP)"
   ]
  },
  {
   "cell_type": "code",
   "execution_count": 30,
   "metadata": {},
   "outputs": [
    {
     "name": "stdout",
     "output_type": "stream",
     "text": [
      "Model: \"sequential_1\"\n",
      "_________________________________________________________________\n",
      " Layer (type)                Output Shape              Param #   \n",
      "=================================================================\n",
      " lstm_2 (LSTM)               (None, 100, 100)          42000     \n",
      "                                                                 \n",
      " dropout_2 (Dropout)         (None, 100, 100)          0         \n",
      "                                                                 \n",
      " lstm_3 (LSTM)               (None, 50)                30200     \n",
      "                                                                 \n",
      " dropout_3 (Dropout)         (None, 50)                0         \n",
      "                                                                 \n",
      " dense_1 (Dense)             (None, 6)                 306       \n",
      "                                                                 \n",
      "=================================================================\n",
      "Total params: 72,506\n",
      "Trainable params: 72,506\n",
      "Non-trainable params: 0\n",
      "_________________________________________________________________\n"
     ]
    }
   ],
   "source": [
    "# ------------ Create LSTM Model -------------------------------\n",
    "model_t = Sequential()\n",
    "model_t.add(LSTM( LSTM_L1, return_sequences=True,input_shape= Input_shape_op2))\n",
    "model_t.add(Dropout(dropRate_L1 ))\n",
    "model_t.add(LSTM(LSTM_L2 ))\n",
    "model_t.add(Dropout(dropRate_L2))\n",
    "model_t.add(Dense(n_classes, activation='softmax'))\n",
    "model_t.summary()"
   ]
  },
  {
   "cell_type": "code",
   "execution_count": 31,
   "metadata": {},
   "outputs": [],
   "source": [
    "# ------------ Create Optimizer -------------------------------\n",
    "model_t.compile( optimizer='adam',loss='sparse_categorical_crossentropy',metrics=[\"acc\"])"
   ]
  },
  {
   "cell_type": "code",
   "execution_count": 32,
   "metadata": {},
   "outputs": [
    {
     "name": "stdout",
     "output_type": "stream",
     "text": [
      "Epoch 1/50\n",
      "40/40 [==============================] - 37s 615ms/step - loss: 1.2873 - acc: 0.4943 - val_loss: 0.9304 - val_acc: 0.6105\n",
      "Epoch 2/50\n",
      "40/40 [==============================] - 17s 427ms/step - loss: 0.9310 - acc: 0.6107 - val_loss: 0.7773 - val_acc: 0.6450\n",
      "Epoch 3/50\n",
      "40/40 [==============================] - 19s 467ms/step - loss: 0.7901 - acc: 0.6741 - val_loss: 0.6647 - val_acc: 0.7239\n",
      "Epoch 4/50\n",
      "40/40 [==============================] - 21s 529ms/step - loss: 0.7493 - acc: 0.6978 - val_loss: 0.7129 - val_acc: 0.7081\n",
      "Epoch 5/50\n",
      "40/40 [==============================] - 19s 470ms/step - loss: 0.8076 - acc: 0.6839 - val_loss: 1.0373 - val_acc: 0.6312\n",
      "Epoch 6/50\n",
      "40/40 [==============================] - 18s 442ms/step - loss: 0.8743 - acc: 0.6225 - val_loss: 0.6979 - val_acc: 0.6943\n",
      "Epoch 7/50\n",
      "40/40 [==============================] - 18s 443ms/step - loss: 0.7253 - acc: 0.6915 - val_loss: 0.7193 - val_acc: 0.6588\n",
      "Epoch 8/50\n",
      "40/40 [==============================] - 18s 454ms/step - loss: 0.6833 - acc: 0.7042 - val_loss: 0.6307 - val_acc: 0.7278\n",
      "Epoch 9/50\n",
      "40/40 [==============================] - 18s 452ms/step - loss: 0.6719 - acc: 0.7317 - val_loss: 0.6049 - val_acc: 0.7436\n",
      "Epoch 10/50\n",
      "40/40 [==============================] - 18s 447ms/step - loss: 0.6286 - acc: 0.7325 - val_loss: 0.5565 - val_acc: 0.7505\n",
      "Epoch 11/50\n",
      "40/40 [==============================] - 18s 446ms/step - loss: 0.5442 - acc: 0.7909 - val_loss: 0.5247 - val_acc: 0.7840\n",
      "Epoch 12/50\n",
      "40/40 [==============================] - 18s 446ms/step - loss: 0.5372 - acc: 0.7850 - val_loss: 0.4675 - val_acc: 0.7988\n",
      "Epoch 13/50\n",
      "40/40 [==============================] - 18s 452ms/step - loss: 0.4930 - acc: 0.8019 - val_loss: 0.4650 - val_acc: 0.7880\n",
      "Epoch 14/50\n",
      "40/40 [==============================] - 18s 443ms/step - loss: 0.4883 - acc: 0.8007 - val_loss: 0.5914 - val_acc: 0.7564\n",
      "Epoch 15/50\n",
      "40/40 [==============================] - 18s 453ms/step - loss: 0.5235 - acc: 0.7829 - val_loss: 0.5369 - val_acc: 0.7396\n",
      "Epoch 16/50\n",
      "40/40 [==============================] - 17s 432ms/step - loss: 0.5259 - acc: 0.7825 - val_loss: 0.4832 - val_acc: 0.7899\n",
      "Epoch 17/50\n",
      "40/40 [==============================] - 17s 429ms/step - loss: 0.4993 - acc: 0.7998 - val_loss: 0.4523 - val_acc: 0.8067\n",
      "Epoch 18/50\n",
      "40/40 [==============================] - 17s 436ms/step - loss: 0.4494 - acc: 0.8210 - val_loss: 0.4071 - val_acc: 0.8304\n",
      "Epoch 19/50\n",
      "40/40 [==============================] - 17s 428ms/step - loss: 0.4701 - acc: 0.8066 - val_loss: 0.4628 - val_acc: 0.8037\n",
      "Epoch 20/50\n",
      "40/40 [==============================] - 17s 435ms/step - loss: 0.4096 - acc: 0.8307 - val_loss: 0.4768 - val_acc: 0.7998\n",
      "Epoch 21/50\n",
      "40/40 [==============================] - 17s 429ms/step - loss: 0.4221 - acc: 0.8396 - val_loss: 0.4194 - val_acc: 0.8323\n",
      "Epoch 22/50\n",
      "40/40 [==============================] - 23s 571ms/step - loss: 0.5002 - acc: 0.7998 - val_loss: 0.4470 - val_acc: 0.8205\n",
      "Epoch 23/50\n",
      "40/40 [==============================] - 25s 631ms/step - loss: 0.4318 - acc: 0.8337 - val_loss: 0.4115 - val_acc: 0.8412\n",
      "Epoch 24/50\n",
      "40/40 [==============================] - 21s 516ms/step - loss: 0.3973 - acc: 0.8443 - val_loss: 0.3992 - val_acc: 0.8383\n",
      "Epoch 25/50\n",
      "40/40 [==============================] - 22s 547ms/step - loss: 0.4163 - acc: 0.8383 - val_loss: 0.5040 - val_acc: 0.7850\n",
      "Epoch 26/50\n",
      "40/40 [==============================] - 18s 446ms/step - loss: 0.4089 - acc: 0.8434 - val_loss: 0.3870 - val_acc: 0.8501\n",
      "Epoch 27/50\n",
      "40/40 [==============================] - 18s 449ms/step - loss: 0.3360 - acc: 0.8722 - val_loss: 0.3870 - val_acc: 0.8442\n",
      "Epoch 28/50\n",
      "40/40 [==============================] - 22s 562ms/step - loss: 0.4095 - acc: 0.8485 - val_loss: 0.4128 - val_acc: 0.8452\n",
      "Epoch 29/50\n",
      "40/40 [==============================] - 21s 523ms/step - loss: 0.3646 - acc: 0.8493 - val_loss: 0.3996 - val_acc: 0.8442\n",
      "Epoch 30/50\n",
      "40/40 [==============================] - 18s 461ms/step - loss: 0.3340 - acc: 0.8747 - val_loss: 0.3830 - val_acc: 0.8481\n",
      "Epoch 31/50\n",
      "40/40 [==============================] - 18s 460ms/step - loss: 0.3500 - acc: 0.8654 - val_loss: 0.4149 - val_acc: 0.8107\n",
      "Epoch 32/50\n",
      "40/40 [==============================] - 19s 466ms/step - loss: 0.3306 - acc: 0.8675 - val_loss: 0.4455 - val_acc: 0.8294\n",
      "Epoch 33/50\n",
      "40/40 [==============================] - 19s 464ms/step - loss: 0.3905 - acc: 0.8540 - val_loss: 0.4756 - val_acc: 0.8245\n",
      "Epoch 34/50\n",
      "40/40 [==============================] - 19s 474ms/step - loss: 0.4204 - acc: 0.8493 - val_loss: 0.5356 - val_acc: 0.8077\n",
      "Epoch 35/50\n",
      "40/40 [==============================] - 18s 459ms/step - loss: 0.5305 - acc: 0.8058 - val_loss: 0.4580 - val_acc: 0.8185\n",
      "Epoch 36/50\n",
      "40/40 [==============================] - 19s 469ms/step - loss: 0.4609 - acc: 0.8142 - val_loss: 0.4545 - val_acc: 0.8047\n",
      "Epoch 37/50\n",
      "40/40 [==============================] - 18s 451ms/step - loss: 0.4907 - acc: 0.8024 - val_loss: 0.4206 - val_acc: 0.8136\n",
      "Epoch 38/50\n",
      "40/40 [==============================] - 18s 443ms/step - loss: 0.3939 - acc: 0.8286 - val_loss: 0.3975 - val_acc: 0.8314\n",
      "Epoch 39/50\n",
      "40/40 [==============================] - 18s 449ms/step - loss: 0.3745 - acc: 0.8430 - val_loss: 0.3728 - val_acc: 0.8412\n",
      "Epoch 40/50\n",
      "40/40 [==============================] - 18s 442ms/step - loss: 0.3320 - acc: 0.8701 - val_loss: 0.3517 - val_acc: 0.8521\n",
      "Epoch 41/50\n",
      "40/40 [==============================] - 17s 437ms/step - loss: 0.3539 - acc: 0.8587 - val_loss: 0.8086 - val_acc: 0.7830\n",
      "Epoch 42/50\n",
      "40/40 [==============================] - 17s 436ms/step - loss: 0.4880 - acc: 0.8180 - val_loss: 0.4158 - val_acc: 0.8195\n",
      "Epoch 43/50\n",
      "40/40 [==============================] - 17s 435ms/step - loss: 0.3585 - acc: 0.8498 - val_loss: 0.3547 - val_acc: 0.8462\n",
      "Epoch 44/50\n",
      "40/40 [==============================] - 17s 436ms/step - loss: 0.3168 - acc: 0.8773 - val_loss: 0.3277 - val_acc: 0.8649\n",
      "Epoch 45/50\n",
      "40/40 [==============================] - 18s 446ms/step - loss: 0.3548 - acc: 0.8557 - val_loss: 0.3950 - val_acc: 0.8294\n",
      "Epoch 46/50\n",
      "40/40 [==============================] - 18s 441ms/step - loss: 0.3658 - acc: 0.8527 - val_loss: 0.3247 - val_acc: 0.8570\n",
      "Epoch 47/50\n",
      "40/40 [==============================] - 19s 469ms/step - loss: 0.3012 - acc: 0.8705 - val_loss: 0.3056 - val_acc: 0.8600\n",
      "Epoch 48/50\n",
      "40/40 [==============================] - 18s 443ms/step - loss: 0.3143 - acc: 0.8705 - val_loss: 0.3354 - val_acc: 0.8511\n",
      "Epoch 49/50\n",
      "40/40 [==============================] - 18s 450ms/step - loss: 0.2923 - acc: 0.8794 - val_loss: 0.3040 - val_acc: 0.8560\n",
      "Epoch 50/50\n",
      "40/40 [==============================] - 18s 453ms/step - loss: 0.2733 - acc: 0.8917 - val_loss: 0.2962 - val_acc: 0.8649\n"
     ]
    }
   ],
   "source": [
    "# Training the model\n",
    "EP = 50\n",
    "batch_size = 60 # try 20, 40, 60, 80, 100\n",
    "history_t = model_t.fit( x_train_T, y_train_T,batch_size = batch_size,validation_data=(x_test_T, y_test_T), epochs=EP)"
   ]
  },
  {
   "cell_type": "code",
   "execution_count": 33,
   "metadata": {},
   "outputs": [
    {
     "name": "stdout",
     "output_type": "stream",
     "text": [
      "32/32 [==============================] - 5s 11ms/step\n"
     ]
    }
   ],
   "source": [
    "LSTM_pred = np.argmax(model.predict(x_test),axis=1)"
   ]
  },
  {
   "cell_type": "code",
   "execution_count": 34,
   "metadata": {},
   "outputs": [
    {
     "name": "stdout",
     "output_type": "stream",
     "text": [
      "Confusion Matrix of LSTM_pred: \n",
      "[[167   6  13   0   0]\n",
      " [  1  39   7   0   2]\n",
      " [  7   5 285   7   7]\n",
      " [  0   0   7 270   0]\n",
      " [  0   0   4   0 187]]\n",
      "Classification Report of LSTM_pred: \n",
      "              precision    recall  f1-score   support\n",
      "\n",
      "         0.0       0.95      0.90      0.93       186\n",
      "         1.0       0.78      0.80      0.79        49\n",
      "         2.0       0.90      0.92      0.91       311\n",
      "         3.0       0.97      0.97      0.97       277\n",
      "         5.0       0.95      0.98      0.97       191\n",
      "\n",
      "    accuracy                           0.93      1014\n",
      "   macro avg       0.91      0.91      0.91      1014\n",
      "weighted avg       0.94      0.93      0.93      1014\n",
      "\n"
     ]
    }
   ],
   "source": [
    "print('Confusion Matrix of LSTM_pred: ')\n",
    "print(confusion_matrix(y_test, LSTM_pred))\n",
    "print('Classification Report of LSTM_pred: ')\n",
    "print(classification_report(y_test, LSTM_pred))"
   ]
  },
  {
   "cell_type": "code",
   "execution_count": 35,
   "metadata": {},
   "outputs": [
    {
     "name": "stdout",
     "output_type": "stream",
     "text": [
      "32/32 [==============================] - 6s 99ms/step\n"
     ]
    }
   ],
   "source": [
    "LSTM_pred_T = np.argmax(model_t.predict(x_test_T),axis=1)"
   ]
  },
  {
   "cell_type": "code",
   "execution_count": 36,
   "metadata": {},
   "outputs": [
    {
     "name": "stdout",
     "output_type": "stream",
     "text": [
      "Confusion Matrix of LSTM_pred transponse: \n",
      "[[152  21  13   0   0]\n",
      " [ 17  28   1   0   3]\n",
      " [ 11  25 257   6  12]\n",
      " [  0   0  19 258   0]\n",
      " [  0   1   8   0 182]]\n",
      "Classification Report of LSTM_pred transponse: \n",
      "              precision    recall  f1-score   support\n",
      "\n",
      "         0.0       0.84      0.82      0.83       186\n",
      "         1.0       0.37      0.57      0.45        49\n",
      "         2.0       0.86      0.83      0.84       311\n",
      "         3.0       0.98      0.93      0.95       277\n",
      "         5.0       0.92      0.95      0.94       191\n",
      "\n",
      "    accuracy                           0.86      1014\n",
      "   macro avg       0.80      0.82      0.80      1014\n",
      "weighted avg       0.88      0.86      0.87      1014\n",
      "\n"
     ]
    }
   ],
   "source": [
    "print('Confusion Matrix of LSTM_pred transponse: ')\n",
    "print(confusion_matrix(y_test_T, LSTM_pred_T))\n",
    "print('Classification Report of LSTM_pred transponse: ')\n",
    "print(classification_report(y_test_T, LSTM_pred_T))"
   ]
  },
  {
   "cell_type": "code",
   "execution_count": 37,
   "metadata": {},
   "outputs": [
    {
     "data": {
      "text/plain": [
       "[<matplotlib.lines.Line2D at 0x22df8a50a90>]"
      ]
     },
     "execution_count": 37,
     "metadata": {},
     "output_type": "execute_result"
    },
    {
     "data": {
      "image/png": "[encoded data removed]",
      "text/plain": [
       "<Figure size 640x480 with 1 Axes>"
      ]
     },
     "metadata": {},
     "output_type": "display_data"
    }
   ],
   "source": [
    "# ------ View History Graph -------------------------------------------\n",
    "# View Accuracy Graph, Loss Graph\n",
    "plt.plot(history.history['acc'])\n",
    "plt.plot(history.history['val_acc'])"
   ]
  },
  {
   "cell_type": "code",
   "execution_count": 38,
   "metadata": {},
   "outputs": [
    {
     "data": {
      "text/plain": [
       "[<matplotlib.lines.Line2D at 0x22df8a9ec50>]"
      ]
     },
     "execution_count": 38,
     "metadata": {},
     "output_type": "execute_result"
    },
    {
     "data": {
      "image/png": "[encoded data removed]",
      "text/plain": [
       "<Figure size 640x480 with 1 Axes>"
      ]
     },
     "metadata": {},
     "output_type": "display_data"
    }
   ],
   "source": [
    "plt.plot(history.history['loss'])\n",
    "plt.plot(history.history['val_loss'])"
   ]
  },
  {
   "cell_type": "code",
   "execution_count": 39,
   "metadata": {},
   "outputs": [
    {
     "data": {
      "text/plain": [
       "[<matplotlib.lines.Line2D at 0x22df8b158a0>]"
      ]
     },
     "execution_count": 39,
     "metadata": {},
     "output_type": "execute_result"
    },
    {
     "data": {
      "image/png": "[encoded data removed]",
      "text/plain": [
       "<Figure size 640x480 with 1 Axes>"
      ]
     },
     "metadata": {},
     "output_type": "display_data"
    }
   ],
   "source": [
    "# ------ View History Graph -------------------------------------------\n",
    "# View Accuracy Graph, Loss Graph\n",
    "plt.plot(history_t.history['acc'])\n",
    "plt.plot(history_t.history['val_acc'])"
   ]
  },
  {
   "cell_type": "code",
   "execution_count": 40,
   "metadata": {},
   "outputs": [
    {
     "data": {
      "text/plain": [
       "[<matplotlib.lines.Line2D at 0x22dfac84fa0>]"
      ]
     },
     "execution_count": 40,
     "metadata": {},
     "output_type": "execute_result"
    },
    {
     "data": {
      "image/png": "[encoded data removed]",
      "text/plain": [
       "<Figure size 640x480 with 1 Axes>"
      ]
     },
     "metadata": {},
     "output_type": "display_data"
    }
   ],
   "source": [
    "plt.plot(history_t.history['loss'])\n",
    "plt.plot(history_t.history['val_loss'])"
   ]
  }
 ],
 "metadata": {
  "kernelspec": {
   "display_name": "Python 3.10.7 64-bit",
   "language": "python",
   "name": "python3"
  },
  "language_info": {
   "codemirror_mode": {
    "name": "ipython",
    "version": 3
   },
   "file_extension": ".py",
   "mimetype": "text/x-python",
   "name": "python",
   "nbconvert_exporter": "python",
   "pygments_lexer": "ipython3",
   "version": "3.10.7"
  },
  "orig_nbformat": 4,
  "vscode": {
   "interpreter": {
    "hash": "26de051ba29f2982a8de78e945f0abaf191376122a1563185a90213a26c5da77"
   }
  }
 },
 "nbformat": 4,
 "nbformat_minor": 2
}
