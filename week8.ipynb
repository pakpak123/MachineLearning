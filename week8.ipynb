{
 "cells": [
  {
   "cell_type": "code",
   "execution_count": null,
   "metadata": {},
   "outputs": [],
   "source": [
    "import numpy as np\n",
    "import pandas as pd\n",
    "import matplotlib.pyplot as plt\n",
    "from sklearn import model_selection\n",
    "from sklearn.preprocessing import StandardScaler\n",
    "from sklearn.model_selection import train_test_split, cross_val_score, StratifiedKFold\n",
    "from sklearn.svm import SVC\n",
    "from sklearn.svm import SVR\n",
    "from sklearn import metrics\n",
    "from sklearn.model_selection import GridSearchCV, RandomizedSearchCV\n",
    "from sklearn.metrics import accuracy_score, classification_report, confusion_matrix\n",
    "from sklearn import preprocessing\n",
    "import glob\n",
    "from scipy import stats\n",
    "import datetime as dt"
   ]
  },
  {
   "cell_type": "code",
   "execution_count": null,
   "metadata": {},
   "outputs": [],
   "source": [
    "ACC = pd.read_csv('46343_acceleration.txt', sep = ' ',names=['timedelta', 'accX', 'accY', 'accZ'])\n",
    "HeartR = pd.read_csv('46343_heartrate.txt', sep = ',',names=['timedelta', 'heartrate'])\n",
    "SleepL = pd.read_csv('46343_labeled_sleep.txt', sep = ' ',names=['timedelta', 'sleep'])"
   ]
  },
  {
   "cell_type": "code",
   "execution_count": null,
   "metadata": {},
   "outputs": [],
   "source": [
    "ACC"
   ]
  },
  {
   "cell_type": "code",
   "execution_count": null,
   "metadata": {},
   "outputs": [],
   "source": [
    "HeartR"
   ]
  },
  {
   "cell_type": "code",
   "execution_count": null,
   "metadata": {},
   "outputs": [],
   "source": [
    "SleepL"
   ]
  },
  {
   "cell_type": "code",
   "execution_count": null,
   "metadata": {},
   "outputs": [],
   "source": [
    "ACC_max_date = ACC['timedelta'].max()\n",
    "ACC_min_date = ACC['timedelta'].min()\n",
    "HeartR_max_date = HeartR['timedelta'].max()\n",
    "HeartR_min_date = HeartR['timedelta'].min()\n",
    "SleepL_max_date = SleepL['timedelta'].max()\n",
    "SleepL_min_date = SleepL['timedelta'].min()\n",
    "print('ACC start: ',ACC_min_date,'ACC end: ',ACC_max_date)\n",
    "print('HeartR start: ',HeartR_min_date,'HeartR end: ',HeartR_max_date)\n",
    "print('SleepL start: ',SleepL_min_date,'SleepL end: ',SleepL_max_date)"
   ]
  },
  {
   "cell_type": "code",
   "execution_count": null,
   "metadata": {},
   "outputs": [],
   "source": [
    "# select only intersected timedelta (ACC, HeartR, SleepL)\n",
    "ACC_new = ACC[(ACC['timedelta'] > ACC_min_date) &(ACC['timedelta'] < ACC_max_date) &(ACC['timedelta'] > HeartR_min_date) &(ACC['timedelta'] < HeartR_max_date)&(ACC['timedelta'] > SleepL_min_date) &(ACC['timedelta'] < SleepL_max_date)]\n",
    "HeartR_new = HeartR[(HeartR['timedelta'] > ACC_min_date) &(HeartR['timedelta'] < ACC_max_date) &(HeartR['timedelta'] > HeartR_min_date) &(HeartR['timedelta'] < HeartR_max_date)&(HeartR['timedelta'] > SleepL_min_date) &(HeartR['timedelta'] < SleepL_max_date)]\n",
    "SleepL_new = SleepL[(SleepL['timedelta'] > ACC_min_date) &(SleepL['timedelta'] < ACC_max_date) &(SleepL['timedelta'] > HeartR_min_date) &(SleepL['timedelta'] < HeartR_max_date)&(SleepL['timedelta'] > SleepL_min_date) &(SleepL['timedelta'] < SleepL_max_date)]"
   ]
  },
  {
   "cell_type": "code",
   "execution_count": null,
   "metadata": {},
   "outputs": [],
   "source": [
    "ACC_new"
   ]
  },
  {
   "cell_type": "code",
   "execution_count": null,
   "metadata": {},
   "outputs": [],
   "source": [
    "HeartR_new"
   ]
  },
  {
   "cell_type": "code",
   "execution_count": null,
   "metadata": {},
   "outputs": [],
   "source": [
    "SleepL_new"
   ]
  },
  {
   "cell_type": "code",
   "execution_count": null,
   "metadata": {},
   "outputs": [],
   "source": [
    "# Convert to datetime and round to second,\n",
    "ACC_new['timedelta'] = pd.DataFrame(pd.to_timedelta(ACC_new['timedelta'], 'seconds').round('1s'))\n",
    "HeartR_new['timedelta'] = pd.DataFrame(pd.to_timedelta(HeartR_new['timedelta'], 'seconds').round('1s'))\n",
    "SleepL_new['timedelta'] = pd.DataFrame(pd.to_timedelta(SleepL_new['timedelta'], 'seconds').round('1s'))"
   ]
  },
  {
   "cell_type": "code",
   "execution_count": null,
   "metadata": {},
   "outputs": [],
   "source": [
    "ACC_new"
   ]
  },
  {
   "cell_type": "code",
   "execution_count": null,
   "metadata": {},
   "outputs": [],
   "source": [
    "# Average rounding duplicated time\n",
    "df_acc_X = ACC_new.groupby('timedelta')['accX'].mean()\n",
    "df_acc_Y = ACC_new.groupby('timedelta')['accY'].mean()\n",
    "df_acc_Z = ACC_new.groupby('timedelta')['accZ'].mean()"
   ]
  },
  {
   "cell_type": "code",
   "execution_count": null,
   "metadata": {},
   "outputs": [],
   "source": [
    "ACC_new2=pd.concat([df_acc_X, df_acc_Y, df_acc_Z], axis=1).reset_index()\n",
    "ACC_new2"
   ]
  },
  {
   "cell_type": "code",
   "execution_count": null,
   "metadata": {},
   "outputs": [],
   "source": [
    "print('--------Before convert datetime and round and average to 1s---------')\n",
    "print(ACC)\n",
    "print('--------After convert datetime and round and average to 1s---------')\n",
    "print(ACC_new2)\n"
   ]
  },
  {
   "cell_type": "code",
   "execution_count": null,
   "metadata": {},
   "outputs": [],
   "source": [
    "# Resampling every 1s with median with ffill\n",
    "resample_rule = '1s'\n",
    "HeartR_new2 = HeartR_new.set_index('timedelta').resample(resample_rule,).median().ffill()\n",
    "HeartR_new2"
   ]
  },
  {
   "cell_type": "code",
   "execution_count": null,
   "metadata": {},
   "outputs": [],
   "source": [
    "df_heartrate = HeartR_new.groupby('timedelta')['heartrate'].mean()\n",
    "#Resampling every 1s with median with ffill\n",
    "HeartR_new2 = pd.concat([df_heartrate], axis=1).reset_index()\n",
    "HeartR_new2['timedelta'] = HeartR_new2['timedelta']-HeartR_new2['timedelta'].min()\n",
    "HeartR_new2"
   ]
  },
  {
   "cell_type": "code",
   "execution_count": null,
   "metadata": {},
   "outputs": [],
   "source": [
    "# Resampling every 1s with median with ffill\n",
    "resample_rule = '1s'\n",
    "SleepL_new2 = SleepL_new.set_index('timedelta').resample(resample_rule,).median().ffill()\n",
    "SleepL_new2"
   ]
  },
  {
   "cell_type": "code",
   "execution_count": null,
   "metadata": {},
   "outputs": [],
   "source": [
    "df_SleepL = SleepL_new.groupby('timedelta')['sleep'].mean()\n",
    "SleepL_new2 = pd.concat([df_SleepL], axis=1).reset_index()\n",
    "SleepL_new2['timedelta'] = SleepL_new2['timedelta']-SleepL_new2['timedelta'].min()\n",
    "SleepL_new2"
   ]
  },
  {
   "cell_type": "code",
   "execution_count": null,
   "metadata": {},
   "outputs": [],
   "source": [
    "# ------------Merge All Data -------------------------------\n",
    "df = []\n",
    "df = pd.merge_asof(ACC_new2, HeartR_new2, on='timedelta')\n",
    "df = pd.merge_asof(df, SleepL_new2, on = 'timedelta')\n",
    "df"
   ]
  },
  {
   "cell_type": "code",
   "execution_count": null,
   "metadata": {},
   "outputs": [],
   "source": [
    "df['heartrate'].fillna(df['heartrate'].median())\n",
    "df['sleep'].fillna(0)\n",
    "df = df.drop(columns='timedelta')\n",
    "df"
   ]
  },
  {
   "cell_type": "code",
   "execution_count": null,
   "metadata": {},
   "outputs": [],
   "source": [
    "# Standardized data\n",
    "feature_columns = ['accX', 'accY', 'accZ', 'heartrate']\n",
    "label_columns = ['sleep']\n",
    "df_feature = df[feature_columns]\n",
    "scaler = preprocessing.StandardScaler()\n",
    "df_feature = pd.DataFrame(scaler.fit_transform(df_feature.values),index = df_feature.index,columns=df_feature.columns)\n",
    "df_label = df[label_columns]"
   ]
  },
  {
   "cell_type": "code",
   "execution_count": null,
   "metadata": {},
   "outputs": [],
   "source": [
    "df_feature"
   ]
  },
  {
   "cell_type": "code",
   "execution_count": null,
   "metadata": {},
   "outputs": [],
   "source": [
    "df_label"
   ]
  },
  {
   "cell_type": "code",
   "execution_count": null,
   "metadata": {},
   "outputs": [],
   "source": [
    "df_feature.plot.line()"
   ]
  },
  {
   "cell_type": "code",
   "execution_count": null,
   "metadata": {},
   "outputs": [],
   "source": [
    "df_label.plot.line()"
   ]
  },
  {
   "cell_type": "code",
   "execution_count": null,
   "metadata": {},
   "outputs": [],
   "source": [
    "X = df_feature\n",
    "X"
   ]
  },
  {
   "cell_type": "code",
   "execution_count": null,
   "metadata": {},
   "outputs": [],
   "source": [
    "y = df_label\n",
    "y"
   ]
  },
  {
   "cell_type": "code",
   "execution_count": null,
   "metadata": {},
   "outputs": [],
   "source": [
    "seed = 42\n",
    "X_train, X_test, y_train, y_test = model_selection.train_test_split(X, y, test_size=0.3, random_state=seed)"
   ]
  },
  {
   "cell_type": "code",
   "execution_count": null,
   "metadata": {},
   "outputs": [],
   "source": [
    "# Model Traing Parameter\n",
    "# Create SVC model\n",
    "c_val = 100 \n",
    "gmm =0.1\n",
    "d = 2"
   ]
  },
  {
   "cell_type": "code",
   "execution_count": null,
   "metadata": {},
   "outputs": [],
   "source": [
    "# Model initialize\n",
    "svc_lin = SVC(kernel='linear', C=c_val)\n",
    "svc_rbf = SVC(kernel='rbf', C=c_val, gamma=gmm)\n",
    "svc_poly = SVC(kernel='poly', C=c_val, degree = d)"
   ]
  },
  {
   "cell_type": "code",
   "execution_count": null,
   "metadata": {},
   "outputs": [],
   "source": [
    "# Model Training\n",
    "svc_rbf = svc_rbf.fit(X_train, y_train)\n",
    "svc_poly = svc_poly.fit(X_train, y_train)"
   ]
  },
  {
   "cell_type": "code",
   "execution_count": null,
   "metadata": {},
   "outputs": [],
   "source": [
    "# Model Testing (Predict)\n",
    "svc_rbf_pred = svc_rbf.predict(X_test)\n",
    "svc_poly_pred = svc_poly.predict(X_test)"
   ]
  },
  {
   "cell_type": "code",
   "execution_count": null,
   "metadata": {},
   "outputs": [],
   "source": [
    "# Print Confusion Matrix and Classification Report for best k\n",
    "print('Confusion Matrix of SVC_RBF: ')\n",
    "print(confusion_matrix(y_test, svc_rbf_pred))\n",
    "print('Classification Report of SVC_RBF: ')\n",
    "print(classification_report(y_test, svc_rbf_pred))"
   ]
  },
  {
   "cell_type": "code",
   "execution_count": null,
   "metadata": {},
   "outputs": [],
   "source": [
    "# Print Confusion Matrix and Classification Report for best k\n",
    "print('Confusion Matrix of SVC_RBF: ')\n",
    "print(confusion_matrix(y_test, svc_poly_pred))\n",
    "print('Classification Report of SVC_RBF: ')\n",
    "print(classification_report(y_test, svc_poly_pred))"
   ]
  },
  {
   "cell_type": "code",
   "execution_count": null,
   "metadata": {},
   "outputs": [],
   "source": [
    "#Create Model Parameter Dictionary for SVC\n",
    "kernel = ['rbf']\n",
    "C_list = [0.1, 1.0, 10.0, 100.0, 200.0, 500.0]\n",
    "Gamma_list = [0.01, 0.1, 1.0, 10]\n",
    "d_list = [2, 3]\n",
    "params = dict(kernel = kernel,C = C_list,gamma = Gamma_list,degree = d_list)"
   ]
  },
  {
   "cell_type": "code",
   "execution_count": null,
   "metadata": {},
   "outputs": [],
   "source": [
    "# Perform GridsearchCV() for each classification model\n",
    "grid = GridSearchCV( estimator=  SVC(), n_jobs = 1, verbose = 10, scoring = 'accuracy', cv = 2, param_grid = params)\n",
    "grid_result = grid.fit(X_train, y_train)"
   ]
  },
  {
   "cell_type": "code",
   "execution_count": null,
   "metadata": {},
   "outputs": [],
   "source": [
    "print('Best params : ',grid_result.best_params_)\n",
    "print('Best Score  : ',grid_result.best_score_)"
   ]
  },
  {
   "cell_type": "code",
   "execution_count": null,
   "metadata": {},
   "outputs": [],
   "source": [
    "mean = grid_result.cv_results_['mean_test_score']\n",
    "std = grid_result.cv_results_['std_test_score']\n",
    "param = grid_result.cv_results_['params']\n",
    "bar_mean = []\n",
    "bar_std = []\n",
    "bar_params = []\n",
    "for mean,stdev,params in zip(mean,std,param):\n",
    "    print('(%f,%f),%r'%(mean,stdev,params))\n",
    "    bar_mean.append(mean)\n",
    "    bar_std.append(stdev)\n",
    "    bar_params.append('C_list : '+str(params['C'])+'G_list : '+str(params['gamma'])+'D_list'+str(params['degree']))"
   ]
  },
  {
   "cell_type": "code",
   "execution_count": null,
   "metadata": {},
   "outputs": [],
   "source": [
    "x = np.arange(len(bar_mean))\n",
    "w = 0.5\n",
    "fig,ax = plt.subplots()\n",
    "fig = plt.title('kernel : poly')\n",
    "rect1 = plt.bar(x-w/2,bar_mean,w,color = 'blue')\n",
    "rect2 = plt.bar(x+w/2,bar_std,w,color = 'red')\n",
    "ax.set_xticks(x,labels = bar_params,fontsize = 6,rotation = 90)\n",
    "plt.subplots_adjust(bottom=0.20)\n",
    "plt.show()"
   ]
  }
 ],
 "metadata": {
  "kernelspec": {
   "display_name": "Python 3.9.13 64-bit (microsoft store)",
   "language": "python",
   "name": "python3"
  },
  "language_info": {
   "codemirror_mode": {
    "name": "ipython",
    "version": 3
   },
   "file_extension": ".py",
   "mimetype": "text/x-python",
   "name": "python",
   "nbconvert_exporter": "python",
   "pygments_lexer": "ipython3",
   "version": "3.9.13"
  },
  "orig_nbformat": 4,
  "vscode": {
   "interpreter": {
    "hash": "4b012d59fd9967520aa1876644e3a9774eee391dbb6584df68e553498820aaf9"
   }
  }
 },
 "nbformat": 4,
 "nbformat_minor": 2
}
